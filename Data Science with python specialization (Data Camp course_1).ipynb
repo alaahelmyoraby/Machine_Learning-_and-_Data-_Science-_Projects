{
 "cells": [
  {
   "cell_type": "code",
   "execution_count": 2,
   "id": "54292601",
   "metadata": {},
   "outputs": [
    {
     "name": "stdout",
     "output_type": "stream",
     "text": [
      "['liz', 1.73, 'emma', 1.68]\n",
      "[1.71, 'dad', 1.89]\n"
     ]
    }
   ],
   "source": [
    "#General role for slilising\n",
    "#List slicing  --->if we write the number, it means it is excluded, not mentioned so it is included\n",
    "fam=['liz', 1.73,'emma', 1.68,'mom', 1.71,'dad', 1.89]\n",
    "print(fam[:4])\n",
    "print(fam[5:])\n"
   ]
  },
  {
   "cell_type": "code",
   "execution_count": 31,
   "id": "6662cb1c",
   "metadata": {},
   "outputs": [
    {
     "name": "stdout",
     "output_type": "stream",
     "text": [
      "['liz', 1.73, 'emma', 1.68, 'mom', 1.71, 'dad', 1.89, 'me', 1.79]\n",
      "None\n",
      "4\n",
      "1\n"
     ]
    }
   ],
   "source": [
    "fam=['liz', 1.73,'emma', 1.68,'mom', 1.71,'dad', 1.89]\n",
    "fam_ext = fam + [\"me\", 1.79]  ##add\n",
    "print(fam_ext)\n",
    "print(fam.index(\"mom\"))\n",
    "print(fam.count(1.73))"
   ]
  },
  {
   "cell_type": "code",
   "execution_count": 8,
   "id": "f866d708",
   "metadata": {},
   "outputs": [
    {
     "data": {
      "text/plain": [
       "['liz', 1.73, 1.68, 'mom', 1.71, 'dad', 1.89]"
      ]
     },
     "execution_count": 8,
     "metadata": {},
     "output_type": "execute_result"
    }
   ],
   "source": [
    "del fam[2]\n",
    "fam"
   ]
  },
  {
   "cell_type": "code",
   "execution_count": 11,
   "id": "b9278697",
   "metadata": {},
   "outputs": [
    {
     "name": "stdout",
     "output_type": "stream",
     "text": [
      "['a', 'z', 'c']\n",
      "['a', 'z', 'c']\n"
     ]
    }
   ],
   "source": [
    "x = [\"a\",\"b\",\"c\"]\n",
    "y = x\n",
    "y[1] = \"z\"\n",
    "print(y)\n",
    "print(x)"
   ]
  },
  {
   "cell_type": "code",
   "execution_count": 14,
   "id": "0a91eb9b",
   "metadata": {},
   "outputs": [
    {
     "name": "stdout",
     "output_type": "stream",
     "text": [
      "['a', 'b', 'c']\n",
      "['a', 'b', 'c']\n"
     ]
    }
   ],
   "source": [
    "#if we donnot want to change\n",
    "x = [\"a\",\"b\",\"c\"]\n",
    "y = list(x)\n",
    "y[1] = \"z\"\n",
    "print(x)\n",
    "\n",
    "#OR\n",
    "\n",
    "x = [\"a\",\"b\",\"c\"]\n",
    "y = x[:]\n",
    "y[1] = \"z\"\n",
    "print(x)"
   ]
  },
  {
   "cell_type": "code",
   "execution_count": 28,
   "id": "5be5b5e5",
   "metadata": {},
   "outputs": [
    {
     "name": "stdout",
     "output_type": "stream",
     "text": [
      "1.7\n",
      "2\n",
      "Liz\n",
      "lisa\n"
     ]
    }
   ],
   "source": [
    "#FUNCTION\n",
    "print(round(1.68, 1))  #to one number ofter decimal\n",
    "print(round(1.68))      # to nrearnest num up\n",
    "##\n",
    "sister = \"liz\"\n",
    "print(sister.capitalize()) #capitalize\n",
    "print(sister.replace(\"z\",\"sa\"))\n",
    "#print(sister.repalce(\"z\",\"s\")) ##no for string\n",
    "# 'list' ,and string object has no attribute 'replace'"
   ]
  },
  {
   "cell_type": "code",
   "execution_count": null,
   "id": "a4093df7",
   "metadata": {},
   "outputs": [],
   "source": [
    "                                        ###Importing Numpy methods"
   ]
  },
  {
   "cell_type": "code",
   "execution_count": 43,
   "id": "1394d879",
   "metadata": {
    "scrolled": true
   },
   "outputs": [
    {
     "ename": "NameError",
     "evalue": "name 'array' is not defined",
     "output_type": "error",
     "traceback": [
      "\u001b[1;31m---------------------------------------------------------------------------\u001b[0m",
      "\u001b[1;31mNameError\u001b[0m                                 Traceback (most recent call last)",
      "Cell \u001b[1;32mIn[43], line 4\u001b[0m\n\u001b[0;32m      1\u001b[0m \u001b[38;5;66;03m###Importing Numpy methods\u001b[39;00m\n\u001b[0;32m      2\u001b[0m \u001b[38;5;66;03m#wrong\u001b[39;00m\n\u001b[0;32m      3\u001b[0m \u001b[38;5;28;01mimport\u001b[39;00m \u001b[38;5;21;01mnumpy\u001b[39;00m\n\u001b[1;32m----> 4\u001b[0m array([\u001b[38;5;241m1\u001b[39m, \u001b[38;5;241m2\u001b[39m, \u001b[38;5;241m3\u001b[39m])\n",
      "\u001b[1;31mNameError\u001b[0m: name 'array' is not defined"
     ]
    }
   ],
   "source": [
    "#wrong\n",
    "import numpy\n",
    "array([1, 2, 3])"
   ]
  },
  {
   "cell_type": "code",
   "execution_count": 44,
   "id": "3c2ffe92",
   "metadata": {},
   "outputs": [
    {
     "data": {
      "text/plain": [
       "array([1, 2, 3])"
      ]
     },
     "execution_count": 44,
     "metadata": {},
     "output_type": "execute_result"
    }
   ],
   "source": [
    "import numpy as np\n",
    "np.array([1, 2, 3])"
   ]
  },
  {
   "cell_type": "code",
   "execution_count": 45,
   "id": "21809014",
   "metadata": {},
   "outputs": [
    {
     "data": {
      "text/plain": [
       "array([1, 2, 3])"
      ]
     },
     "execution_count": 45,
     "metadata": {},
     "output_type": "execute_result"
    }
   ],
   "source": [
    "numpy.array([1, 2, 3])"
   ]
  },
  {
   "cell_type": "code",
   "execution_count": 46,
   "id": "4d0863f2",
   "metadata": {},
   "outputs": [
    {
     "data": {
      "text/plain": [
       "array([1, 2, 3])"
      ]
     },
     "execution_count": 46,
     "metadata": {},
     "output_type": "execute_result"
    }
   ],
   "source": [
    "from numpy import array\n",
    "array([1, 2, 3])"
   ]
  },
  {
   "cell_type": "code",
   "execution_count": 50,
   "id": "b013aaf4",
   "metadata": {},
   "outputs": [
    {
     "name": "stdout",
     "output_type": "stream",
     "text": [
      "10 elements in famext\n"
     ]
    }
   ],
   "source": [
    "#example\n",
    "import numpy as np\n",
    "fam = [\"liz\", 1.73,\"emma\", 1.68,\"mom\", 1.71,\"dad\", 1.89]\n",
    "ext = fam + [\"me\", 1.79]\n",
    "print(str(len(fam_ext)) + \" elements in famext\")\n",
    "np_fam = np.array(fam_ext) # Clearly using NumPy"
   ]
  },
  {
   "cell_type": "code",
   "execution_count": 4,
   "id": "01291077",
   "metadata": {},
   "outputs": [
    {
     "data": {
      "text/plain": [
       "array([21.85171573, 20.97505669, 21.75028214, 24.7473475 , 21.44127836])"
      ]
     },
     "execution_count": 4,
     "metadata": {},
     "output_type": "execute_result"
    }
   ],
   "source": [
    "#calculaton with Numpy\n",
    "height = [1.73, 1.68, 1.71, 1.89, 1.79]\n",
    "weight = [65.4, 59.2, 63.6, 88.4, 68.7]\n",
    "import numpy as np\n",
    "np_height=np.array(height)\n",
    "np_weight=np.array(weight)\n",
    "bmi = np_weight / np_height ** 2\n",
    "bmi"
   ]
  },
  {
   "cell_type": "code",
   "execution_count": 5,
   "id": "36105cf2",
   "metadata": {},
   "outputs": [
    {
     "name": "stdout",
     "output_type": "stream",
     "text": [
      "[1, 2, 3, 1, 2, 3]\n",
      "[2 4 6]\n"
     ]
    }
   ],
   "source": [
    "# + in conventional list =union\n",
    "# + in numply list additiom\n",
    "python_list = [1, 2, 3]\n",
    "numpy_array = np.array([1, 2, 3])\n",
    "print(python_list+python_list)\n",
    "print(numpy_array+numpy_array)"
   ]
  },
  {
   "cell_type": "code",
   "execution_count": 9,
   "id": "7e79d229",
   "metadata": {},
   "outputs": [
    {
     "name": "stdout",
     "output_type": "stream",
     "text": [
      "[21.85171573 20.97505669 21.75028214 24.7473475  21.44127836]\n",
      "[False False False  True False]\n",
      "[24.7473475]\n"
     ]
    }
   ],
   "source": [
    "print(bmi)\n",
    "print(bmi>23)\n",
    "print(bmi[bmi>23])"
   ]
  },
  {
   "cell_type": "code",
   "execution_count": 26,
   "id": "5ff2fa5d",
   "metadata": {},
   "outputs": [
    {
     "name": "stdout",
     "output_type": "stream",
     "text": [
      "(2, 5)\n",
      "[1.73 1.68 1.71 1.89 1.79]\n",
      "1.71\n",
      "1.71\n",
      "[[ 1.68  1.71]\n",
      " [59.2  63.6 ]]\n",
      "[65.4 59.2 63.6 88.4 68.7]\n",
      "[65.4 59.2 63.6 88.4 68.7]\n"
     ]
    }
   ],
   "source": [
    "#2D\n",
    "np_2d = np.array([[1.73, 1.68, 1.71, 1.89, 1.79],\n",
    "                  [65.4, 59.2, 63.6, 88.4, 68.7]])\n",
    "print(np_2d.shape)\n",
    "print(np_2d[0]) #print first row\n",
    "print(np_2d[0][2])  #print first row third column\n",
    "#OR\n",
    "print(np_2d[0,2])  #print first row third column\n",
    "#-----\n",
    "print(np_2d[:, 1:3])  #all from 1:3\n",
    "print(np_2d[1, :])  #second row only\n",
    "print(np_2d[1])  #second row only"
   ]
  },
  {
   "cell_type": "code",
   "execution_count": 31,
   "id": "f2fd0322",
   "metadata": {},
   "outputs": [
    {
     "data": {
      "text/html": [
       "<div>\n",
       "<style scoped>\n",
       "    .dataframe tbody tr th:only-of-type {\n",
       "        vertical-align: middle;\n",
       "    }\n",
       "\n",
       "    .dataframe tbody tr th {\n",
       "        vertical-align: top;\n",
       "    }\n",
       "\n",
       "    .dataframe thead th {\n",
       "        text-align: right;\n",
       "    }\n",
       "</style>\n",
       "<table border=\"1\" class=\"dataframe\">\n",
       "  <thead>\n",
       "    <tr style=\"text-align: right;\">\n",
       "      <th></th>\n",
       "      <th>Name</th>\n",
       "      <th>Team</th>\n",
       "      <th>Position</th>\n",
       "      <th>Height</th>\n",
       "      <th>Weight</th>\n",
       "      <th>Age</th>\n",
       "      <th>PosCategory</th>\n",
       "    </tr>\n",
       "  </thead>\n",
       "  <tbody>\n",
       "    <tr>\n",
       "      <th>0</th>\n",
       "      <td>Adam_Donachie</td>\n",
       "      <td>BAL</td>\n",
       "      <td>Catcher</td>\n",
       "      <td>74</td>\n",
       "      <td>180</td>\n",
       "      <td>22.99</td>\n",
       "      <td>Catcher</td>\n",
       "    </tr>\n",
       "    <tr>\n",
       "      <th>1</th>\n",
       "      <td>Paul_Bako</td>\n",
       "      <td>BAL</td>\n",
       "      <td>Catcher</td>\n",
       "      <td>74</td>\n",
       "      <td>215</td>\n",
       "      <td>34.69</td>\n",
       "      <td>Catcher</td>\n",
       "    </tr>\n",
       "    <tr>\n",
       "      <th>2</th>\n",
       "      <td>Ramon_Hernandez</td>\n",
       "      <td>BAL</td>\n",
       "      <td>Catcher</td>\n",
       "      <td>72</td>\n",
       "      <td>210</td>\n",
       "      <td>30.78</td>\n",
       "      <td>Catcher</td>\n",
       "    </tr>\n",
       "    <tr>\n",
       "      <th>3</th>\n",
       "      <td>Kevin_Millar</td>\n",
       "      <td>BAL</td>\n",
       "      <td>First_Baseman</td>\n",
       "      <td>72</td>\n",
       "      <td>210</td>\n",
       "      <td>35.43</td>\n",
       "      <td>Infielder</td>\n",
       "    </tr>\n",
       "    <tr>\n",
       "      <th>4</th>\n",
       "      <td>Chris_Gomez</td>\n",
       "      <td>BAL</td>\n",
       "      <td>First_Baseman</td>\n",
       "      <td>73</td>\n",
       "      <td>188</td>\n",
       "      <td>35.71</td>\n",
       "      <td>Infielder</td>\n",
       "    </tr>\n",
       "    <tr>\n",
       "      <th>...</th>\n",
       "      <td>...</td>\n",
       "      <td>...</td>\n",
       "      <td>...</td>\n",
       "      <td>...</td>\n",
       "      <td>...</td>\n",
       "      <td>...</td>\n",
       "      <td>...</td>\n",
       "    </tr>\n",
       "    <tr>\n",
       "      <th>1010</th>\n",
       "      <td>Brad_Thompson</td>\n",
       "      <td>STL</td>\n",
       "      <td>Relief_Pitcher</td>\n",
       "      <td>73</td>\n",
       "      <td>190</td>\n",
       "      <td>25.08</td>\n",
       "      <td>Pitcher</td>\n",
       "    </tr>\n",
       "    <tr>\n",
       "      <th>1011</th>\n",
       "      <td>Tyler_Johnson</td>\n",
       "      <td>STL</td>\n",
       "      <td>Relief_Pitcher</td>\n",
       "      <td>74</td>\n",
       "      <td>180</td>\n",
       "      <td>25.73</td>\n",
       "      <td>Pitcher</td>\n",
       "    </tr>\n",
       "    <tr>\n",
       "      <th>1012</th>\n",
       "      <td>Chris_Narveson</td>\n",
       "      <td>STL</td>\n",
       "      <td>Relief_Pitcher</td>\n",
       "      <td>75</td>\n",
       "      <td>205</td>\n",
       "      <td>25.19</td>\n",
       "      <td>Pitcher</td>\n",
       "    </tr>\n",
       "    <tr>\n",
       "      <th>1013</th>\n",
       "      <td>Randy_Keisler</td>\n",
       "      <td>STL</td>\n",
       "      <td>Relief_Pitcher</td>\n",
       "      <td>75</td>\n",
       "      <td>190</td>\n",
       "      <td>31.01</td>\n",
       "      <td>Pitcher</td>\n",
       "    </tr>\n",
       "    <tr>\n",
       "      <th>1014</th>\n",
       "      <td>Josh_Kinney</td>\n",
       "      <td>STL</td>\n",
       "      <td>Relief_Pitcher</td>\n",
       "      <td>73</td>\n",
       "      <td>195</td>\n",
       "      <td>27.92</td>\n",
       "      <td>Pitcher</td>\n",
       "    </tr>\n",
       "  </tbody>\n",
       "</table>\n",
       "<p>1015 rows × 7 columns</p>\n",
       "</div>"
      ],
      "text/plain": [
       "                 Name Team        Position  Height  Weight    Age PosCategory\n",
       "0       Adam_Donachie  BAL         Catcher      74     180  22.99     Catcher\n",
       "1           Paul_Bako  BAL         Catcher      74     215  34.69     Catcher\n",
       "2     Ramon_Hernandez  BAL         Catcher      72     210  30.78     Catcher\n",
       "3        Kevin_Millar  BAL   First_Baseman      72     210  35.43   Infielder\n",
       "4         Chris_Gomez  BAL   First_Baseman      73     188  35.71   Infielder\n",
       "...               ...  ...             ...     ...     ...    ...         ...\n",
       "1010    Brad_Thompson  STL  Relief_Pitcher      73     190  25.08     Pitcher\n",
       "1011    Tyler_Johnson  STL  Relief_Pitcher      74     180  25.73     Pitcher\n",
       "1012   Chris_Narveson  STL  Relief_Pitcher      75     205  25.19     Pitcher\n",
       "1013    Randy_Keisler  STL  Relief_Pitcher      75     190  31.01     Pitcher\n",
       "1014      Josh_Kinney  STL  Relief_Pitcher      73     195  27.92     Pitcher\n",
       "\n",
       "[1015 rows x 7 columns]"
      ]
     },
     "execution_count": 31,
     "metadata": {},
     "output_type": "execute_result"
    }
   ],
   "source": [
    "import pandas as np\n",
    "READ=np.read_csv(\"baseball.csv\")\n",
    "READ"
   ]
  },
  {
   "cell_type": "code",
   "execution_count": 34,
   "id": "750818a8",
   "metadata": {},
   "outputs": [
    {
     "data": {
      "text/plain": [
       "0         Adam_Donachie\n",
       "1             Paul_Bako\n",
       "2       Ramon_Hernandez\n",
       "3          Kevin_Millar\n",
       "4           Chris_Gomez\n",
       "             ...       \n",
       "1010      Brad_Thompson\n",
       "1011      Tyler_Johnson\n",
       "1012     Chris_Narveson\n",
       "1013      Randy_Keisler\n",
       "1014        Josh_Kinney\n",
       "Name: Name, Length: 1015, dtype: object"
      ]
     },
     "execution_count": 34,
     "metadata": {},
     "output_type": "execute_result"
    }
   ],
   "source": [
    "READ['Name']"
   ]
  },
  {
   "cell_type": "code",
   "execution_count": 8,
   "id": "a1f0941b",
   "metadata": {},
   "outputs": [
    {
     "name": "stdout",
     "output_type": "stream",
     "text": [
      "201.34876847290641\n",
      "200.0\n",
      "2.3127918810465395\n"
     ]
    }
   ],
   "source": [
    "import pandas as np\n",
    "READ=np.read_csv(\"baseball.csv\")\n",
    "import numpy as np\n",
    "print(np.mean(READ['Weight']))\n",
    "print(np.median(READ['Weight']))\n",
    "print(np.std(READ['Height']))"
   ]
  },
  {
   "cell_type": "code",
   "execution_count": 11,
   "id": "18153b84",
   "metadata": {},
   "outputs": [
    {
     "data": {
      "text/plain": [
       "array([[ -3.77,   3.13],\n",
       "       [  2.52,   0.53],\n",
       "       [ -4.27, -14.93],\n",
       "       ...,\n",
       "       [  4.53,   0.84],\n",
       "       [  2.91, -21.14],\n",
       "       [ -1.54,  19.8 ]])"
      ]
     },
     "execution_count": 11,
     "metadata": {},
     "output_type": "execute_result"
    }
   ],
   "source": [
    "height = np.round(np.random.normal(1, 5, 5000), 2)\n",
    "weight = np.round(np.random.normal(2, 10, 5000), 2)\n",
    "np_city = np.column_stack((height, weight))\n",
    "np_city"
   ]
  },
  {
   "cell_type": "code",
   "execution_count": null,
   "id": "bfb7b980",
   "metadata": {},
   "outputs": [],
   "source": []
  },
  {
   "cell_type": "code",
   "execution_count": null,
   "id": "49bd700b",
   "metadata": {},
   "outputs": [],
   "source": []
  },
  {
   "cell_type": "code",
   "execution_count": null,
   "id": "4cce1df9",
   "metadata": {},
   "outputs": [],
   "source": []
  },
  {
   "cell_type": "code",
   "execution_count": null,
   "id": "0541c42f",
   "metadata": {},
   "outputs": [],
   "source": []
  }
 ],
 "metadata": {
  "kernelspec": {
   "display_name": "Python 3 (ipykernel)",
   "language": "python",
   "name": "python3"
  },
  "language_info": {
   "codemirror_mode": {
    "name": "ipython",
    "version": 3
   },
   "file_extension": ".py",
   "mimetype": "text/x-python",
   "name": "python",
   "nbconvert_exporter": "python",
   "pygments_lexer": "ipython3",
   "version": "3.11.4"
  }
 },
 "nbformat": 4,
 "nbformat_minor": 5
}
